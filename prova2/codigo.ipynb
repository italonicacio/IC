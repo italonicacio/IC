{
 "metadata": {
  "language_info": {
   "codemirror_mode": {
    "name": "ipython",
    "version": 3
   },
   "file_extension": ".py",
   "mimetype": "text/x-python",
   "name": "python",
   "nbconvert_exporter": "python",
   "pygments_lexer": "ipython3",
   "version": "3.8.5-final"
  },
  "orig_nbformat": 2,
  "kernelspec": {
   "name": "Python 3.8.5 64-bit",
   "display_name": "Python 3.8.5 64-bit",
   "metadata": {
    "interpreter": {
     "hash": "31f2aee4e71d21fbe5cf8b01ff0e069b9275f58929596ceb00d14d90e3e16cd6"
    }
   }
  }
 },
 "nbformat": 4,
 "nbformat_minor": 2,
 "cells": [
  {
   "cell_type": "code",
   "execution_count": 2,
   "metadata": {},
   "outputs": [],
   "source": [
    "import numpy as np\n",
    "import matplotlib.pyplot as plt\n",
    "from sklearn.datasets import load_wine\n",
    "from sklearn.preprocessing import scale\n",
    "from sklearn.metrics import classification_report"
   ]
  },
  {
   "cell_type": "code",
   "execution_count": 3,
   "metadata": {},
   "outputs": [],
   "source": [
    "def funcObjetivo(c,z,data):\n",
    "    N,n = data.shape\n",
    "    J = 0\n",
    "    for i in range(N):\n",
    "        J = J + np.linalg.norm(data[i,:]-z[c[i],:])**2\n",
    "    return J/N\n",
    "\n",
    "def agrupar(z,k,data):\n",
    "    N,n = data.shape\n",
    "    c = np.zeros(N,dtype=int)\n",
    "    for i in range(N):\n",
    "        distancias= np.zeros(k)\n",
    "        for j in range(k):\n",
    "            distancias[j] = np.linalg.norm(z[j,:]-data[i,:])\n",
    "        c[i] = np.argmin(distancias)\n",
    "    for i in range(k):\n",
    "        if np.sum(c==i)==0: # verifica se todos os grupos tem pelo menos um vetor\n",
    "            print('Grupo',i,'não tem elementos.')\n",
    "            assert 0\n",
    "    return c\n",
    "\n",
    "def representantes(c,k,data):\n",
    "    N,n = data.shape\n",
    "    z = np.zeros((k,n))\n",
    "    for i in range(k):\n",
    "        onde = np.where(c==i)\n",
    "        onde = np.squeeze(onde)\n",
    "        Xk = data[onde,:]\n",
    "        Nk = Xk.shape[0]\n",
    "        z[i,:] = np.sum(Xk, axis = 0)\n",
    "        z[i,:] = z[i,:]/Nk\n",
    "    return z\n",
    "\n",
    "def sorteio_representantes(k,data):\n",
    "    N,n=data.shape\n",
    "    while True:\n",
    "        r = np.random.randint(0,N,k)\n",
    "        r.sort()\n",
    "        b = r[1:]\n",
    "        a = r[:-1]\n",
    "        c = a < b\n",
    "        if np.sum(c)==len(c):\n",
    "            break\n",
    "    z = data[r,:]\n",
    "    return z,r\n",
    "\n",
    "\n",
    "def kmeans01(data, k, maxiter, epsilon, sortear = True, r = 0):\n",
    "    N,n = data.shape\n",
    "    J = np.zeros(maxiter)\n",
    "    \n",
    "    if sortear: # inicializa com z sorteado a partir dos vetores em data\n",
    "        z,r = sorteio_representantes(k,data)\n",
    "    else:\n",
    "        z=data[r,:]\n",
    "\n",
    "    c = agrupar(z,k,data)\n",
    "    J[0] = funcObjetivo(c,z,data)\n",
    "    z=representantes(c,k,data)\n",
    "    \n",
    "    for i in range(1,maxiter):\n",
    "        c = agrupar(z,k,data)\n",
    "        J[i] = funcObjetivo(c,z,data)\n",
    "        print('iter=',i,'\\t\\tJ=',J[i])\n",
    "        if J[i]==J[i-1]: #abs(J[i]-J[i-1])/J[i]<epsilon:\n",
    "            J=J[0:i+1]\n",
    "            print('kmeans converge em',i,'iterações e J*=',J[i],'.')\n",
    "            return r,c,J\n",
    "        z=representantes(c,k,data)\n",
    "        \n",
    "    print('kmeans atinge o número máximo de iterações',maxiter,'.')\n",
    "    return r,c,J"
   ]
  },
  {
   "cell_type": "code",
   "execution_count": 4,
   "metadata": {},
   "outputs": [],
   "source": [
    "data, targets = load_wine(return_X_y = True)\n",
    "\n",
    "targets = np.array(targets)\n",
    "data = np.array(data)"
   ]
  },
  {
   "cell_type": "code",
   "execution_count": 5,
   "metadata": {},
   "outputs": [
    {
     "output_type": "stream",
     "name": "stdout",
     "text": [
      "Classe 0:  59\nClasse 1:  71\nClasse 2:  48\nNo total são  178 vinhos.\n"
     ]
    }
   ],
   "source": [
    "N,n=data.shape\n",
    "print('Classe 0: ', len(np.where(targets==0)[0]))\n",
    "print('Classe 1: ', len(np.where(targets==1)[0]))\n",
    "print('Classe 2: ', len(np.where(targets==2)[0]))\n",
    "\n",
    "\n",
    "print('No total são ', N, 'vinhos.')"
   ]
  },
  {
   "cell_type": "code",
   "execution_count": 6,
   "metadata": {},
   "outputs": [
    {
     "output_type": "stream",
     "name": "stdout",
     "text": [
      "rodada= 0\niter= 1 \t\tJ= 7.853057093880784\niter= 2 \t\tJ= 7.333399246343021\niter= 3 \t\tJ= 7.2127743237090165\niter= 4 \t\tJ= 7.198052663175715\niter= 5 \t\tJ= 7.190821083005315\niter= 6 \t\tJ= 7.190821083005315\nkmeans converge em 6 iterações e J*= 7.190821083005315 .\nrodada= 1\niter= 1 \t\tJ= 9.727553486054402\niter= 2 \t\tJ= 8.119180741981058\niter= 3 \t\tJ= 7.285172228160975\niter= 4 \t\tJ= 7.184259309153685\niter= 5 \t\tJ= 7.181735012437612\niter= 6 \t\tJ= 7.179373532835073\niter= 7 \t\tJ= 7.179373532835073\nkmeans converge em 7 iterações e J*= 7.179373532835073 .\nrodada= 2\niter= 1 \t\tJ= 9.553488704670228\niter= 2 \t\tJ= 8.32724729524538\niter= 3 \t\tJ= 7.293230631898807\niter= 4 \t\tJ= 7.205945083810374\niter= 5 \t\tJ= 7.202098397671318\niter= 6 \t\tJ= 7.191069653713796\niter= 7 \t\tJ= 7.184576016148346\niter= 8 \t\tJ= 7.181735012437612\niter= 9 \t\tJ= 7.179373532835073\niter= 10 \t\tJ= 7.179373532835073\nkmeans converge em 10 iterações e J*= 7.179373532835073 .\niter= 1 \t\tJ= 9.727553486054402\niter= 2 \t\tJ= 8.119180741981058\niter= 3 \t\tJ= 7.285172228160975\niter= 4 \t\tJ= 7.184259309153685\niter= 5 \t\tJ= 7.181735012437612\niter= 6 \t\tJ= 7.179373532835073\niter= 7 \t\tJ= 7.179373532835073\nkmeans converge em 7 iterações e J*= 7.179373532835073 .\n"
     ]
    }
   ],
   "source": [
    "# normalizar = True\n",
    "# X = data\n",
    "# if normalizar:\n",
    "#     maxdata = np.max(data[0])\n",
    "#     X = X/maxdata\n",
    "\n",
    "X = scale(data)\n",
    "\n",
    "k = 3\n",
    "maxiter = 100\n",
    "epsilon = 1e-6\n",
    "\n",
    "Jmin = 1e30\n",
    "rmin = np.zeros(k)\n",
    "for i in range(k):\n",
    "    print('rodada=',i)\n",
    "    r, c, J = kmeans01(X, k, maxiter, epsilon)\n",
    "    if min(J) < Jmin:\n",
    "        Jmin = np.min(J)\n",
    "        rmin = r\n",
    "    \n",
    "\n",
    "r, c, J = kmeans01(X, k, maxiter, epsilon, sortear = False, r = rmin)"
   ]
  },
  {
   "cell_type": "code",
   "execution_count": 7,
   "metadata": {},
   "outputs": [
    {
     "output_type": "stream",
     "name": "stdout",
     "text": [
      "              precision    recall  f1-score   support\n\n           0       0.95      1.00      0.98        59\n           1       0.06      0.04      0.05        71\n           2       0.00      0.00      0.00        48\n\n    accuracy                           0.35       178\n   macro avg       0.34      0.35      0.34       178\nweighted avg       0.34      0.35      0.34       178\n\n"
     ]
    }
   ],
   "source": [
    "print(classification_report(targets,c))"
   ]
  },
  {
   "cell_type": "code",
   "execution_count": 10,
   "metadata": {},
   "outputs": [
    {
     "output_type": "stream",
     "name": "stdout",
     "text": [
      "Agrupamento do KMeans:\nQuantidade da classe 0:  62\nQuantidade da classe 1:  51\nQuantidade da classe 2:  65\n"
     ]
    }
   ],
   "source": [
    "print('Agrupamento do KMeans:')\n",
    "print('Quantidade da classe 0: ', np.count_nonzero(c == 0))\n",
    "print('Quantidade da classe 1: ', np.count_nonzero(c == 1))\n",
    "print('Quantidade da classe 2: ', np.count_nonzero(c == 2))\n"
   ]
  },
  {
   "cell_type": "code",
   "execution_count": null,
   "metadata": {},
   "outputs": [],
   "source": []
  }
 ]
}