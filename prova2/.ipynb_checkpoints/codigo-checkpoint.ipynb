{
 "cells": [
  {
   "cell_type": "code",
   "execution_count": 1,
   "metadata": {},
   "outputs": [],
   "source": [
    "import numpy as np\n",
    "import matplotlib.pyplot as plt\n",
    "from sklearn.datasets import load_wine\n",
    "from sklearn.preprocessing import scale\n",
    "from sklearn.metrics import classification_report\n"
   ]
  },
  {
   "cell_type": "code",
   "execution_count": 2,
   "metadata": {},
   "outputs": [],
   "source": [
    "def funcObjetivo(c,z,data):\n",
    "    N,n = data.shape\n",
    "    J = 0\n",
    "    for i in range(N):\n",
    "        J = J + np.linalg.norm(data[i,:]-z[c[i],:])**2\n",
    "    return J/N\n",
    "\n",
    "def agrupar(z,k,data):\n",
    "    N,n = data.shape\n",
    "    c = np.zeros(N,dtype=int)\n",
    "    for i in range(N):\n",
    "        distancias= np.zeros(k)\n",
    "        for j in range(k):\n",
    "            distancias[j] = np.linalg.norm(z[j,:]-data[i,:])\n",
    "        c[i] = np.argmin(distancias)\n",
    "    for i in range(k):\n",
    "        if np.sum(c==i)==0: # verifica se todos os grupos tem pelo menos um vetor\n",
    "            print('Grupo',i,'não tem elementos.')\n",
    "            assert 0\n",
    "    return c\n",
    "\n",
    "def representantes(c,k,data):\n",
    "    N,n = data.shape\n",
    "    z = np.zeros((k,n))\n",
    "    for i in range(k):\n",
    "        onde = np.where(c==i)\n",
    "        onde = np.squeeze(onde)\n",
    "        Xk = data[onde,:]\n",
    "        Nk = Xk.shape[0]\n",
    "        z[i,:] = np.sum(Xk, axis = 0)\n",
    "        z[i,:] = z[i,:]/Nk\n",
    "    return z\n",
    "\n",
    "def sorteio_representantes(k,data):\n",
    "    N,n=data.shape\n",
    "    while True:\n",
    "        r = np.random.randint(0,N,k)\n",
    "        r.sort()\n",
    "        b = r[1:]\n",
    "        a = r[:-1]\n",
    "        c = a < b\n",
    "        if np.sum(c)==len(c):\n",
    "            break\n",
    "    z = data[r,:]\n",
    "    return z,r\n",
    "\n",
    "\n",
    "def kmeans01(data, k, maxiter, epsilon, sortear = True, r = 0):\n",
    "    N,n = data.shape\n",
    "    J = np.zeros(maxiter)\n",
    "    \n",
    "    if sortear: # inicializa com z sorteado a partir dos vetores em data\n",
    "        z,r = sorteio_representantes(k,data)\n",
    "    else:\n",
    "        z=data[r,:]\n",
    "\n",
    "    c = agrupar(z,k,data)\n",
    "    J[0] = funcObjetivo(c,z,data)\n",
    "    z=representantes(c,k,data)\n",
    "    \n",
    "    for i in range(1,maxiter):\n",
    "        c = agrupar(z,k,data)\n",
    "        J[i] = funcObjetivo(c,z,data)\n",
    "        print('iter=',i,'\\t\\tJ=',J[i])\n",
    "        if J[i]==J[i-1]: #abs(J[i]-J[i-1])/J[i]<epsilon:\n",
    "            J=J[0:i+1]\n",
    "            print('kmeans converge em',i,'iterações e J*=',J[i],'.')\n",
    "            return r,c,J\n",
    "        z=representantes(c,k,data)\n",
    "        \n",
    "    print('kmeans atinge o número máximo de iterações',maxiter,'.')\n",
    "    return r,c,J"
   ]
  },
  {
   "cell_type": "code",
   "execution_count": 3,
   "metadata": {},
   "outputs": [],
   "source": [
    "data, targets = load_wine(return_X_y = True)\n",
    "\n",
    "targets = np.array(targets)\n",
    "data = np.array(data)"
   ]
  },
  {
   "cell_type": "code",
   "execution_count": 4,
   "metadata": {},
   "outputs": [
    {
     "name": "stdout",
     "output_type": "stream",
     "text": [
      "Classe 0:  59\n",
      "Classe 1:  71\n",
      "Classe 2:  48\n",
      "No total são  178 vinhos.\n"
     ]
    }
   ],
   "source": [
    "N,n=data.shape\n",
    "print('Classe 0: ', len(np.where(targets==0)[0]))\n",
    "print('Classe 1: ', len(np.where(targets==1)[0]))\n",
    "print('Classe 2: ', len(np.where(targets==2)[0]))\n",
    "\n",
    "\n",
    "print('No total são ', N, 'vinhos.')"
   ]
  },
  {
   "cell_type": "code",
   "execution_count": 5,
   "metadata": {},
   "outputs": [
    {
     "name": "stdout",
     "output_type": "stream",
     "text": [
      "rodada= 0\n",
      "iter= 1 \t\tJ= 9.645864153013981\n",
      "iter= 2 \t\tJ= 9.332867500622875\n",
      "iter= 3 \t\tJ= 9.020374942271866\n",
      "iter= 4 \t\tJ= 8.406548218856496\n",
      "iter= 5 \t\tJ= 7.785259374891485\n",
      "iter= 6 \t\tJ= 7.356595982181717\n",
      "iter= 7 \t\tJ= 7.2472036837214056\n",
      "iter= 8 \t\tJ= 7.1929554561531255\n",
      "iter= 9 \t\tJ= 7.182460986787698\n",
      "iter= 10 \t\tJ= 7.179373532835073\n",
      "iter= 11 \t\tJ= 7.179373532835073\n",
      "kmeans converge em 11 iterações e J*= 7.179373532835073 .\n",
      "rodada= 1\n",
      "iter= 1 \t\tJ= 7.706828896766235\n",
      "iter= 2 \t\tJ= 7.337267395036959\n",
      "iter= 3 \t\tJ= 7.194161477822499\n",
      "iter= 4 \t\tJ= 7.181735012437612\n",
      "iter= 5 \t\tJ= 7.179373532835073\n",
      "iter= 6 \t\tJ= 7.179373532835073\n",
      "kmeans converge em 6 iterações e J*= 7.179373532835073 .\n",
      "rodada= 2\n",
      "iter= 1 \t\tJ= 10.428977862702581\n",
      "iter= 2 \t\tJ= 9.36697306410248\n",
      "iter= 3 \t\tJ= 7.5454494292390875\n",
      "iter= 4 \t\tJ= 7.229475234205137\n",
      "iter= 5 \t\tJ= 7.203225150760314\n",
      "iter= 6 \t\tJ= 7.198052663175715\n",
      "iter= 7 \t\tJ= 7.190821083005315\n",
      "iter= 8 \t\tJ= 7.190821083005315\n",
      "kmeans converge em 8 iterações e J*= 7.190821083005315 .\n",
      "iter= 1 \t\tJ= 9.645864153013981\n",
      "iter= 2 \t\tJ= 9.332867500622875\n",
      "iter= 3 \t\tJ= 9.020374942271866\n",
      "iter= 4 \t\tJ= 8.406548218856496\n",
      "iter= 5 \t\tJ= 7.785259374891485\n",
      "iter= 6 \t\tJ= 7.356595982181717\n",
      "iter= 7 \t\tJ= 7.2472036837214056\n",
      "iter= 8 \t\tJ= 7.1929554561531255\n",
      "iter= 9 \t\tJ= 7.182460986787698\n",
      "iter= 10 \t\tJ= 7.179373532835073\n",
      "iter= 11 \t\tJ= 7.179373532835073\n",
      "kmeans converge em 11 iterações e J*= 7.179373532835073 .\n"
     ]
    },
    {
     "ename": "NameError",
     "evalue": "name 'z' is not defined",
     "output_type": "error",
     "traceback": [
      "\u001b[0;31m---------------------------------------------------------------------------\u001b[0m",
      "\u001b[0;31mNameError\u001b[0m                                 Traceback (most recent call last)",
      "\u001b[0;32m<ipython-input-5-0fe618925830>\u001b[0m in \u001b[0;36m<module>\u001b[0;34m\u001b[0m\n\u001b[1;32m     31\u001b[0m \u001b[0;34m\u001b[0m\u001b[0m\n\u001b[1;32m     32\u001b[0m \u001b[0;32mfor\u001b[0m \u001b[0mi\u001b[0m \u001b[0;32min\u001b[0m \u001b[0mrange\u001b[0m\u001b[0;34m(\u001b[0m\u001b[0mk\u001b[0m\u001b[0;34m)\u001b[0m\u001b[0;34m:\u001b[0m\u001b[0;34m\u001b[0m\u001b[0;34m\u001b[0m\u001b[0m\n\u001b[0;32m---> 33\u001b[0;31m     \u001b[0mdistancias\u001b[0m \u001b[0;34m=\u001b[0m \u001b[0mdata\u001b[0m\u001b[0;34m-\u001b[0m\u001b[0mz\u001b[0m\u001b[0;34m[\u001b[0m\u001b[0mi\u001b[0m\u001b[0;34m,\u001b[0m\u001b[0;34m:\u001b[0m\u001b[0;34m]\u001b[0m\u001b[0;34m\u001b[0m\u001b[0;34m\u001b[0m\u001b[0m\n\u001b[0m\u001b[1;32m     34\u001b[0m     \u001b[0mdistancias\u001b[0m \u001b[0;34m=\u001b[0m \u001b[0mnp\u001b[0m\u001b[0;34m.\u001b[0m\u001b[0mlinalg\u001b[0m\u001b[0;34m.\u001b[0m\u001b[0mnorm\u001b[0m\u001b[0;34m(\u001b[0m\u001b[0mdistancias\u001b[0m\u001b[0;34m,\u001b[0m\u001b[0maxis\u001b[0m\u001b[0;34m=\u001b[0m\u001b[0;36m1\u001b[0m\u001b[0;34m)\u001b[0m\u001b[0;34m\u001b[0m\u001b[0;34m\u001b[0m\u001b[0m\n\u001b[1;32m     35\u001b[0m     \u001b[0mj\u001b[0m \u001b[0;34m=\u001b[0m \u001b[0margmin\u001b[0m\u001b[0;34m(\u001b[0m\u001b[0mdistancias\u001b[0m\u001b[0;34m)\u001b[0m\u001b[0;34m\u001b[0m\u001b[0;34m\u001b[0m\u001b[0m\n",
      "\u001b[0;31mNameError\u001b[0m: name 'z' is not defined"
     ]
    }
   ],
   "source": [
    "normalizar = True\n",
    "# X = data\n",
    "# if normalizar:\n",
    "#     maxdata = np.max(data[0])\n",
    "#     X = X/maxdata\n",
    "\n",
    "X = scale(data)\n",
    "\n",
    "k = 3\n",
    "maxiter = 100\n",
    "epsilon = 1e-6\n",
    "\n",
    "Jmin = 1e30\n",
    "rmin = np.zeros(k) # vou guardar o chute inicial dos z que atinge o menor J.\n",
    "for i in range(k):\n",
    "    print('rodada=',i)\n",
    "    r, c, J = kmeans01(X, k, maxiter, epsilon)\n",
    "    if min(J) < Jmin:\n",
    "        Jmin = np.min(J)\n",
    "        rmin = r\n",
    "    \n",
    "\n",
    "r, c, J = kmeans01(X, k, maxiter, epsilon, sortear = False, r = rmin)\n",
    "\n",
    "\n",
    "\n",
    "# z=representantes(c,k,X)\n",
    "# if normalizar:\n",
    "#     z=z*maxdata\n",
    "\n",
    "\n",
    "for i in range(k):\n",
    "    distancias = data-z[i,:]\n",
    "    distancias = np.linalg.norm(distancias,axis=1)\n",
    "    j = argmin(distancias)\n",
    "    arquetipo = data[j]\n",
    "    # print(mndata.display(list(arquetipo)))\n",
    "    # ax[(i//5), (i % 5)].imshow(arquetipo.reshape((28,28)))\n"
   ]
  },
  {
   "cell_type": "code",
   "execution_count": 6,
   "metadata": {},
   "outputs": [
    {
     "data": {
      "text/plain": [
       "array([ True,  True,  True,  True,  True,  True,  True,  True,  True,\n",
       "        True,  True,  True,  True,  True,  True,  True,  True,  True,\n",
       "        True,  True,  True,  True,  True,  True,  True,  True,  True,\n",
       "        True,  True,  True,  True,  True,  True,  True,  True,  True,\n",
       "        True,  True,  True,  True,  True,  True,  True,  True,  True,\n",
       "        True,  True,  True,  True,  True,  True,  True,  True,  True,\n",
       "        True,  True,  True,  True,  True,  True,  True, False,  True,\n",
       "        True,  True,  True,  True,  True,  True,  True,  True,  True,\n",
       "        True, False,  True,  True,  True,  True,  True,  True,  True,\n",
       "        True,  True, False,  True,  True,  True,  True,  True,  True,\n",
       "        True,  True,  True,  True,  True, False,  True,  True,  True,\n",
       "        True,  True,  True,  True,  True,  True,  True,  True,  True,\n",
       "        True,  True,  True,  True,  True,  True,  True,  True,  True,\n",
       "        True, False,  True,  True, False,  True,  True,  True,  True,\n",
       "        True,  True,  True,  True,  True,  True,  True,  True,  True,\n",
       "        True,  True,  True,  True,  True,  True,  True,  True,  True,\n",
       "        True,  True,  True,  True,  True,  True,  True,  True,  True,\n",
       "        True,  True,  True,  True,  True,  True,  True,  True,  True,\n",
       "        True,  True,  True,  True,  True,  True,  True,  True,  True,\n",
       "        True,  True,  True,  True,  True,  True,  True])"
      ]
     },
     "execution_count": 6,
     "metadata": {},
     "output_type": "execute_result"
    }
   ],
   "source": [
    "t_bool = c == targets\n",
    "t_bool"
   ]
  },
  {
   "cell_type": "code",
   "execution_count": 7,
   "metadata": {},
   "outputs": [
    {
     "name": "stdout",
     "output_type": "stream",
     "text": [
      "Classe 0:  62\n",
      "Classe 1:  65\n",
      "Classe 2:  51\n"
     ]
    }
   ],
   "source": [
    "print('Classe 0: ', len(np.where(c==0)[0]))\n",
    "print('Classe 1: ', len(np.where(c==1)[0]))\n",
    "print('Classe 2: ', len(np.where(c==2)[0]))"
   ]
  },
  {
   "cell_type": "code",
   "execution_count": 8,
   "metadata": {},
   "outputs": [
    {
     "name": "stdout",
     "output_type": "stream",
     "text": [
      "(178,)\n"
     ]
    },
    {
     "data": {
      "text/plain": [
       "172"
      ]
     },
     "execution_count": 8,
     "metadata": {},
     "output_type": "execute_result"
    }
   ],
   "source": [
    "t = np.count_nonzero(t_bool)\n",
    "print(t_bool.shape)\n",
    "t"
   ]
  },
  {
   "cell_type": "code",
   "execution_count": 9,
   "metadata": {},
   "outputs": [
    {
     "name": "stdout",
     "output_type": "stream",
     "text": [
      "Quantidade da classe 0:  6\n",
      "Quantidade da classe 1:  172\n",
      "Quantidade da classe 2:  0\n"
     ]
    }
   ],
   "source": [
    "print('Quantidade da classe 0: ', np.count_nonzero(t_bool == 0))\n",
    "print('Quantidade da classe 1: ', np.count_nonzero(t_bool == 1))\n",
    "print('Quantidade da classe 2: ', np.count_nonzero(t_bool == 2))\n"
   ]
  },
  {
   "cell_type": "code",
   "execution_count": 10,
   "metadata": {},
   "outputs": [
    {
     "data": {
      "text/plain": [
       "(array([], dtype=int64),)"
      ]
     },
     "execution_count": 10,
     "metadata": {},
     "output_type": "execute_result"
    }
   ],
   "source": [
    "np.where(targets == 3)"
   ]
  },
  {
   "cell_type": "code",
   "execution_count": 11,
   "metadata": {},
   "outputs": [
    {
     "ename": "ValueError",
     "evalue": "Found input variables with inconsistent numbers of samples: [178, 12]",
     "output_type": "error",
     "traceback": [
      "\u001b[0;31m---------------------------------------------------------------------------\u001b[0m",
      "\u001b[0;31mValueError\u001b[0m                                Traceback (most recent call last)",
      "\u001b[0;32m<ipython-input-11-534f53afa288>\u001b[0m in \u001b[0;36m<module>\u001b[0;34m\u001b[0m\n\u001b[0;32m----> 1\u001b[0;31m \u001b[0mprint\u001b[0m\u001b[0;34m(\u001b[0m\u001b[0mclassification_report\u001b[0m\u001b[0;34m(\u001b[0m\u001b[0mdata\u001b[0m\u001b[0;34m,\u001b[0m\u001b[0mJ\u001b[0m\u001b[0;34m)\u001b[0m\u001b[0;34m)\u001b[0m\u001b[0;34m\u001b[0m\u001b[0;34m\u001b[0m\u001b[0m\n\u001b[0m",
      "\u001b[0;32m/usr/local/lib/python3.8/dist-packages/sklearn/utils/validation.py\u001b[0m in \u001b[0;36minner_f\u001b[0;34m(*args, **kwargs)\u001b[0m\n\u001b[1;32m     70\u001b[0m                           FutureWarning)\n\u001b[1;32m     71\u001b[0m         \u001b[0mkwargs\u001b[0m\u001b[0;34m.\u001b[0m\u001b[0mupdate\u001b[0m\u001b[0;34m(\u001b[0m\u001b[0;34m{\u001b[0m\u001b[0mk\u001b[0m\u001b[0;34m:\u001b[0m \u001b[0marg\u001b[0m \u001b[0;32mfor\u001b[0m \u001b[0mk\u001b[0m\u001b[0;34m,\u001b[0m \u001b[0marg\u001b[0m \u001b[0;32min\u001b[0m \u001b[0mzip\u001b[0m\u001b[0;34m(\u001b[0m\u001b[0msig\u001b[0m\u001b[0;34m.\u001b[0m\u001b[0mparameters\u001b[0m\u001b[0;34m,\u001b[0m \u001b[0margs\u001b[0m\u001b[0;34m)\u001b[0m\u001b[0;34m}\u001b[0m\u001b[0;34m)\u001b[0m\u001b[0;34m\u001b[0m\u001b[0;34m\u001b[0m\u001b[0m\n\u001b[0;32m---> 72\u001b[0;31m         \u001b[0;32mreturn\u001b[0m \u001b[0mf\u001b[0m\u001b[0;34m(\u001b[0m\u001b[0;34m**\u001b[0m\u001b[0mkwargs\u001b[0m\u001b[0;34m)\u001b[0m\u001b[0;34m\u001b[0m\u001b[0;34m\u001b[0m\u001b[0m\n\u001b[0m\u001b[1;32m     73\u001b[0m     \u001b[0;32mreturn\u001b[0m \u001b[0minner_f\u001b[0m\u001b[0;34m\u001b[0m\u001b[0;34m\u001b[0m\u001b[0m\n\u001b[1;32m     74\u001b[0m \u001b[0;34m\u001b[0m\u001b[0m\n",
      "\u001b[0;32m/usr/local/lib/python3.8/dist-packages/sklearn/metrics/_classification.py\u001b[0m in \u001b[0;36mclassification_report\u001b[0;34m(y_true, y_pred, labels, target_names, sample_weight, digits, output_dict, zero_division)\u001b[0m\n\u001b[1;32m   1927\u001b[0m     \"\"\"\n\u001b[1;32m   1928\u001b[0m \u001b[0;34m\u001b[0m\u001b[0m\n\u001b[0;32m-> 1929\u001b[0;31m     \u001b[0my_type\u001b[0m\u001b[0;34m,\u001b[0m \u001b[0my_true\u001b[0m\u001b[0;34m,\u001b[0m \u001b[0my_pred\u001b[0m \u001b[0;34m=\u001b[0m \u001b[0m_check_targets\u001b[0m\u001b[0;34m(\u001b[0m\u001b[0my_true\u001b[0m\u001b[0;34m,\u001b[0m \u001b[0my_pred\u001b[0m\u001b[0;34m)\u001b[0m\u001b[0;34m\u001b[0m\u001b[0;34m\u001b[0m\u001b[0m\n\u001b[0m\u001b[1;32m   1930\u001b[0m \u001b[0;34m\u001b[0m\u001b[0m\n\u001b[1;32m   1931\u001b[0m     \u001b[0mlabels_given\u001b[0m \u001b[0;34m=\u001b[0m \u001b[0;32mTrue\u001b[0m\u001b[0;34m\u001b[0m\u001b[0;34m\u001b[0m\u001b[0m\n",
      "\u001b[0;32m/usr/local/lib/python3.8/dist-packages/sklearn/metrics/_classification.py\u001b[0m in \u001b[0;36m_check_targets\u001b[0;34m(y_true, y_pred)\u001b[0m\n\u001b[1;32m     79\u001b[0m     \u001b[0my_pred\u001b[0m \u001b[0;34m:\u001b[0m \u001b[0marray\u001b[0m \u001b[0;32mor\u001b[0m \u001b[0mindicator\u001b[0m \u001b[0mmatrix\u001b[0m\u001b[0;34m\u001b[0m\u001b[0;34m\u001b[0m\u001b[0m\n\u001b[1;32m     80\u001b[0m     \"\"\"\n\u001b[0;32m---> 81\u001b[0;31m     \u001b[0mcheck_consistent_length\u001b[0m\u001b[0;34m(\u001b[0m\u001b[0my_true\u001b[0m\u001b[0;34m,\u001b[0m \u001b[0my_pred\u001b[0m\u001b[0;34m)\u001b[0m\u001b[0;34m\u001b[0m\u001b[0;34m\u001b[0m\u001b[0m\n\u001b[0m\u001b[1;32m     82\u001b[0m     \u001b[0mtype_true\u001b[0m \u001b[0;34m=\u001b[0m \u001b[0mtype_of_target\u001b[0m\u001b[0;34m(\u001b[0m\u001b[0my_true\u001b[0m\u001b[0;34m)\u001b[0m\u001b[0;34m\u001b[0m\u001b[0;34m\u001b[0m\u001b[0m\n\u001b[1;32m     83\u001b[0m     \u001b[0mtype_pred\u001b[0m \u001b[0;34m=\u001b[0m \u001b[0mtype_of_target\u001b[0m\u001b[0;34m(\u001b[0m\u001b[0my_pred\u001b[0m\u001b[0;34m)\u001b[0m\u001b[0;34m\u001b[0m\u001b[0;34m\u001b[0m\u001b[0m\n",
      "\u001b[0;32m/usr/local/lib/python3.8/dist-packages/sklearn/utils/validation.py\u001b[0m in \u001b[0;36mcheck_consistent_length\u001b[0;34m(*arrays)\u001b[0m\n\u001b[1;32m    253\u001b[0m     \u001b[0muniques\u001b[0m \u001b[0;34m=\u001b[0m \u001b[0mnp\u001b[0m\u001b[0;34m.\u001b[0m\u001b[0munique\u001b[0m\u001b[0;34m(\u001b[0m\u001b[0mlengths\u001b[0m\u001b[0;34m)\u001b[0m\u001b[0;34m\u001b[0m\u001b[0;34m\u001b[0m\u001b[0m\n\u001b[1;32m    254\u001b[0m     \u001b[0;32mif\u001b[0m \u001b[0mlen\u001b[0m\u001b[0;34m(\u001b[0m\u001b[0muniques\u001b[0m\u001b[0;34m)\u001b[0m \u001b[0;34m>\u001b[0m \u001b[0;36m1\u001b[0m\u001b[0;34m:\u001b[0m\u001b[0;34m\u001b[0m\u001b[0;34m\u001b[0m\u001b[0m\n\u001b[0;32m--> 255\u001b[0;31m         raise ValueError(\"Found input variables with inconsistent numbers of\"\n\u001b[0m\u001b[1;32m    256\u001b[0m                          \" samples: %r\" % [int(l) for l in lengths])\n\u001b[1;32m    257\u001b[0m \u001b[0;34m\u001b[0m\u001b[0m\n",
      "\u001b[0;31mValueError\u001b[0m: Found input variables with inconsistent numbers of samples: [178, 12]"
     ]
    }
   ],
   "source": [
    "print(classification_report(data,J))"
   ]
  },
  {
   "cell_type": "code",
   "execution_count": null,
   "metadata": {},
   "outputs": [],
   "source": []
  }
 ],
 "metadata": {
  "kernelspec": {
   "display_name": "Python 3",
   "language": "python",
   "name": "python3"
  },
  "language_info": {
   "codemirror_mode": {
    "name": "ipython",
    "version": 3
   },
   "file_extension": ".py",
   "mimetype": "text/x-python",
   "name": "python",
   "nbconvert_exporter": "python",
   "pygments_lexer": "ipython3",
   "version": "3.8.5"
  }
 },
 "nbformat": 4,
 "nbformat_minor": 2
}
